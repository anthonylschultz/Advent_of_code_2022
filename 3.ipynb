{
 "cells": [
  {
   "cell_type": "code",
   "execution_count": 2,
   "metadata": {},
   "outputs": [],
   "source": [
    "import pandas as pd"
   ]
  },
  {
   "cell_type": "code",
   "execution_count": 3,
   "metadata": {},
   "outputs": [
    {
     "data": {
      "text/plain": [
       "' \\n1) separate rucksacks in half\\n2) determine which characters are similar between each rucksack\\n- for i in each half, if i == i: accum_list += i\\n3) transalte similar characters to priority levels\\n- translation table\\n4) sum up priority levels\\n\\n'"
      ]
     },
     "execution_count": 3,
     "metadata": {},
     "output_type": "execute_result"
    }
   ],
   "source": [
    "''' \n",
    "1) separate rucksacks in half\n",
    "2) determine which characters are similar between each rucksack\n",
    "- for i in each half, if i == i: accum_list += i\n",
    "3) transalte similar characters to priority levels\n",
    "- translation table\n",
    "4) sum up priority levels\n",
    "'''"
   ]
  },
  {
   "cell_type": "code",
   "execution_count": 19,
   "metadata": {},
   "outputs": [],
   "source": [
    "# read in data\n",
    "input = pd.read_csv('data/3.csv', header=None)"
   ]
  },
  {
   "cell_type": "code",
   "execution_count": 20,
   "metadata": {},
   "outputs": [],
   "source": [
    "# accumulate data into a single list (non-nested)\n",
    "rucks = []\n",
    "for lst in input.values.tolist():\n",
    "    for i in lst:\n",
    "        rucks.append(i)\n",
    "\n",
    "# split rucksacks into two - list of lists\n",
    "d = dict()\n",
    "for i in rucks:\n",
    "    d[i] = {}\n"
   ]
  },
  {
   "cell_type": "code",
   "execution_count": 57,
   "metadata": {},
   "outputs": [],
   "source": [
    "# accumulate rucksacks into dictionaries with item list as key and split lists as values\n",
    "for k, v in d.items():\n",
    "    d[k] = k[:len(k)//2], k[len(k)//2:]"
   ]
  },
  {
   "cell_type": "code",
   "execution_count": 83,
   "metadata": {},
   "outputs": [],
   "source": [
    "accum = []\n",
    "for k, v in d.items():\n",
    "    accum.append(v)"
   ]
  },
  {
   "cell_type": "code",
   "execution_count": 209,
   "metadata": {},
   "outputs": [],
   "source": [
    "def compare_d(list):\n",
    "    '''\n",
    "    input - accum\n",
    "    output - list of common characters in both strings\n",
    "    '''\n",
    "    chars = []\n",
    "    d_chars = dict()\n",
    "    for i in range(len(list)):\n",
    "        a = list[i][0]\n",
    "        b = list[i][1]\n",
    "\n",
    "        for x in a:\n",
    "            if x in b:\n",
    "                d_chars[i] = x\n",
    "\n",
    "    return d_chars\n",
    "\n",
    "    \n",
    "rucks_common_char = compare_d(accum)\n"
   ]
  },
  {
   "cell_type": "code",
   "execution_count": 221,
   "metadata": {},
   "outputs": [],
   "source": [
    "# create translation table\n",
    "import string \n",
    "k = [i for i in range(1, 53)]\n",
    "alpha = list(string.ascii_letters)\n",
    "d_map = dict(zip(k, alpha))\n"
   ]
  },
  {
   "cell_type": "code",
   "execution_count": 247,
   "metadata": {},
   "outputs": [
    {
     "name": "stdout",
     "output_type": "stream",
     "text": [
      "7848\n"
     ]
    }
   ],
   "source": [
    "# compare dict values with translation table\n",
    "# accumulate priority values\n",
    "sum_ = 0\n",
    "for char in rucks_common_char.values():\n",
    "    for k, v in d_map.items():\n",
    "        if char == v:\n",
    "            sum_ += k\n",
    "\n",
    "print(sum_)"
   ]
  },
  {
   "cell_type": "code",
   "execution_count": null,
   "metadata": {},
   "outputs": [],
   "source": [
    "# part two\n",
    "''' \n",
    "1) chunk groups into three -> put in list of lists\n",
    "2) identify common character amongst three lines\n",
    "3) translate all common characters into priority values\n",
    "\n",
    "'''"
   ]
  },
  {
   "cell_type": "code",
   "execution_count": 288,
   "metadata": {},
   "outputs": [],
   "source": [
    "def chunks(lst, n):\n",
    "    for i in range(0, len(lst), n):\n",
    "        yield lst[i:i + n]"
   ]
  },
  {
   "cell_type": "code",
   "execution_count": 296,
   "metadata": {},
   "outputs": [],
   "source": [
    "# for i in range(0, length of rucks, step 3)\n",
    "# index rucks at i through i + 3 -> pack into a new list\n",
    "rucks_three = [rucks[i:i + 3] for i in range(0, len(rucks), 3)]"
   ]
  },
  {
   "cell_type": "code",
   "execution_count": 301,
   "metadata": {},
   "outputs": [],
   "source": [
    "def compare_d(list):\n",
    "    '''\n",
    "    input - accum\n",
    "    output - list of common characters in both strings\n",
    "    '''\n",
    "    chars = []\n",
    "    d_chars = dict()\n",
    "    for i in range(len(list)):\n",
    "        a = list[i][0]\n",
    "        b = list[i][1]\n",
    "        c = list[i][2]\n",
    "\n",
    "        for x in a:\n",
    "            for y in b:\n",
    "                for z in c:\n",
    "                    if x == y and x == z and y == z:\n",
    "                        d_chars[i] = x\n",
    "\n",
    "    return d_chars\n",
    "\n",
    "    \n",
    "rucks_common_char = compare_d(rucks_three)"
   ]
  },
  {
   "cell_type": "code",
   "execution_count": 304,
   "metadata": {},
   "outputs": [
    {
     "name": "stdout",
     "output_type": "stream",
     "text": [
      "2616\n"
     ]
    }
   ],
   "source": [
    "# compare dict values with translation table\n",
    "# accumulate priority values\n",
    "sum_ = 0\n",
    "for char in rucks_common_char.values():\n",
    "    for k, v in d_map.items():\n",
    "        if char == v:\n",
    "            sum_ += k\n",
    "\n",
    "print(sum_)"
   ]
  },
  {
   "cell_type": "code",
   "execution_count": null,
   "metadata": {},
   "outputs": [],
   "source": []
  }
 ],
 "metadata": {
  "kernelspec": {
   "display_name": "Python 3.10.8 ('advent_of_code')",
   "language": "python",
   "name": "python3"
  },
  "language_info": {
   "codemirror_mode": {
    "name": "ipython",
    "version": 3
   },
   "file_extension": ".py",
   "mimetype": "text/x-python",
   "name": "python",
   "nbconvert_exporter": "python",
   "pygments_lexer": "ipython3",
   "version": "3.10.8"
  },
  "orig_nbformat": 4,
  "vscode": {
   "interpreter": {
    "hash": "37e1299f106e6ad6794fef019231ade3462540ea0684155dba7562f40a6349f0"
   }
  }
 },
 "nbformat": 4,
 "nbformat_minor": 2
}
