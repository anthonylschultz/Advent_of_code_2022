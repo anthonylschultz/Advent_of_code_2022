{
 "cells": [
  {
   "cell_type": "code",
   "execution_count": 494,
   "metadata": {},
   "outputs": [],
   "source": [
    "import pandas as pd\n",
    "\n",
    "# read in data\n",
    "data = pd.read_csv('data/5.csv', header=None)\n",
    "\n",
    "# make dict with indices\n",
    "d = dict()\n",
    "\n",
    "# build list of keys for dict\n",
    "kys = [i for i in range(1, 9)]\n",
    "\n",
    "# populate dict with keys\n",
    "for i in kys:\n",
    "    d[i] = {}\n",
    "\n",
    "# manual entry of initial crate locations\n",
    "d[1] = ['N', 'S', 'D', 'C', 'V', 'Q', 'T']\n",
    "d[2] = ['M', 'F', 'V']\n",
    "d[3] = ['F', 'Q', 'W', 'D', 'P', 'N', 'H', 'M']\n",
    "d[4] = ['Q', 'D', 'R', 'T', 'F']\n",
    "d[5] = ['R', 'F', 'M', 'N', 'Q', 'H', 'V', 'B']\n",
    "d[6] = ['C', 'F', 'G', 'N', 'P', 'W', 'Q']\n",
    "d[7] = ['W', 'F', 'R', 'L', 'C', 'T']\n",
    "d[8] = ['T', 'Z', 'N', 'S']\n",
    "d[9] = ['M', 'S', 'D', 'J', 'R', 'Q', 'H', 'N']\n",
    "\n",
    "# transform moves data into dictionary\n",
    "moves = data[9:]\n",
    "moves = moves[0].str.split(' ', expand=True)\n",
    "moves = moves.drop([0, 2, 4], axis=1).reset_index().drop('index', axis=1)\n",
    "moves['moves_c'] = moves.values.tolist()\n",
    "\n",
    "d_moves = dict()\n",
    "\n",
    "for idx, i in enumerate(moves['moves_c']):\n",
    "    d_moves[idx+1] = list(map(int, i))"
   ]
  },
  {
   "cell_type": "code",
   "execution_count": 491,
   "metadata": {},
   "outputs": [],
   "source": [
    "def move_stacks(dict1, dict2) -> str:\n",
    "\n",
    "    ''' \n",
    "    input -> \n",
    "    d_moves (dict1)\n",
    "    d (dict2) (placements)\n",
    "\n",
    "    output -> d[k][-1]\n",
    "    \n",
    "    '''\n",
    "\n",
    "    for k, v in dict1.items():\n",
    "        origin = v[1]\n",
    "        destination = v[2]\n",
    "        num_crates = v[0]\n",
    "\n",
    "        if num_crates == 1:\n",
    "\n",
    "            try:\n",
    "                crate_to_move = dict2[origin].pop()\n",
    "            \n",
    "            except IndexError:\n",
    "                pass\n",
    "\n",
    "            dict2[destination].append(crate_to_move)\n",
    "\n",
    "        else:\n",
    "            for i in range(0, num_crates):\n",
    "\n",
    "                try:\n",
    "                    crate_to_move = dict2[origin].pop()\n",
    "\n",
    "                except IndexError:\n",
    "                    pass\n",
    "\n",
    "                dict2[destination].append(crate_to_move)\n",
    "\n",
    "\n",
    "    \n",
    "    return d\n",
    "        \n",
    "\n"
   ]
  },
  {
   "cell_type": "code",
   "execution_count": 492,
   "metadata": {},
   "outputs": [
    {
     "name": "stdout",
     "output_type": "stream",
     "text": [
      "{1: ['B', 'F', 'Q', 'Z', 'N', 'R', 'F'], 2: ['N', 'R'], 3: ['D'], 4: ['F', 'T', 'T', 'M', 'S'], 5: ['C', 'W', 'V', 'Q', 'P', 'P', 'D', 'Q', 'Q', 'N', 'Q'], 6: ['W', 'R'], 7: ['N', 'D', 'S', 'T', 'F', 'M', 'M', 'J', 'F', 'L', 'R'], 8: ['H', 'C', 'V', 'C'], 9: ['H', 'G', 'N', 'N', 'T', 'S', 'Q', 'H', 'W', 'V', 'F', 'M', 'D']}\n"
     ]
    }
   ],
   "source": [
    "result = move_stacks(d_moves, d)\n",
    "\n",
    "print(result)"
   ]
  },
  {
   "cell_type": "code",
   "execution_count": 493,
   "metadata": {},
   "outputs": [
    {
     "data": {
      "text/plain": [
       "{1: ['B', 'F', 'Q', 'Z', 'N', 'R', 'F'],\n",
       " 2: ['N', 'R'],\n",
       " 3: ['D'],\n",
       " 4: ['F', 'T', 'T', 'M', 'S'],\n",
       " 5: ['C', 'W', 'V', 'Q', 'P', 'P', 'D', 'Q', 'Q', 'N', 'Q'],\n",
       " 6: ['W', 'R'],\n",
       " 7: ['N', 'D', 'S', 'T', 'F', 'M', 'M', 'J', 'F', 'L', 'R'],\n",
       " 8: ['H', 'C', 'V', 'C'],\n",
       " 9: ['H', 'G', 'N', 'N', 'T', 'S', 'Q', 'H', 'W', 'V', 'F', 'M', 'D']}"
      ]
     },
     "execution_count": 493,
     "metadata": {},
     "output_type": "execute_result"
    }
   ],
   "source": [
    "result"
   ]
  },
  {
   "cell_type": "code",
   "execution_count": null,
   "metadata": {},
   "outputs": [],
   "source": []
  }
 ],
 "metadata": {
  "kernelspec": {
   "display_name": "Python 3.10.8 ('advent_of_code')",
   "language": "python",
   "name": "python3"
  },
  "language_info": {
   "codemirror_mode": {
    "name": "ipython",
    "version": 3
   },
   "file_extension": ".py",
   "mimetype": "text/x-python",
   "name": "python",
   "nbconvert_exporter": "python",
   "pygments_lexer": "ipython3",
   "version": "3.10.8"
  },
  "orig_nbformat": 4,
  "vscode": {
   "interpreter": {
    "hash": "37e1299f106e6ad6794fef019231ade3462540ea0684155dba7562f40a6349f0"
   }
  }
 },
 "nbformat": 4,
 "nbformat_minor": 2
}
