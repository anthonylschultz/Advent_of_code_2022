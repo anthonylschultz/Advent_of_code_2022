{
 "cells": [
  {
   "cell_type": "markdown",
   "metadata": {},
   "source": []
  },
  {
   "cell_type": "code",
   "execution_count": null,
   "metadata": {},
   "outputs": [],
   "source": [
    "# Advent of Code 2022, 1a"
   ]
  },
  {
   "cell_type": "code",
   "execution_count": 2,
   "metadata": {},
   "outputs": [],
   "source": [
    "# import packages\n",
    "import pandas as pd\n",
    "import numpy as np\n",
    "import seaborn as sns\n",
    "import matplotlib.pyplot as plt"
   ]
  },
  {
   "cell_type": "code",
   "execution_count": 227,
   "metadata": {},
   "outputs": [],
   "source": [
    "# import file values as strings, fill NAs with arbitrary character, convert to list\n",
    "input = pd.read_csv('data/1a.csv', header=None, skip_blank_lines=False, dtype=str)\n",
    "\n",
    "input.fillna('t', inplace=True)\n",
    "\n",
    "input = input.values.tolist()"
   ]
  },
  {
   "cell_type": "code",
   "execution_count": 228,
   "metadata": {},
   "outputs": [],
   "source": [
    "# convert values to string, append to list\n",
    "input_i = []\n",
    "\n",
    "for i in input:\n",
    "    for val in i:\n",
    "        input_i.append(str(val))"
   ]
  },
  {
   "cell_type": "code",
   "execution_count": 229,
   "metadata": {},
   "outputs": [],
   "source": [
    "# convert values to one large string, separated by 't' \n",
    "# split large string into new_strs object\n",
    "new_strs = ','.join(input_i).split(',t,')"
   ]
  },
  {
   "cell_type": "code",
   "execution_count": 203,
   "metadata": {},
   "outputs": [
    {
     "name": "stdout",
     "output_type": "stream",
     "text": [
      "['11334', '6264', '9318']\n"
     ]
    }
   ],
   "source": [
    "# convert each split object into its own list\n",
    "# split each sublist into it's own list of ints\n",
    "new_ints = []\n",
    "\n",
    "for i in new_strs:\n",
    "    new_ints.append([i])\n",
    "\n",
    "for i in new_ints[0]:\n",
    "    print(i.split(','))\n",
    "\n",
    "new = []\n",
    "for i in new_ints:\n",
    "    for val in i:\n",
    "        new.append(val.split(','))\n",
    "\n",
    "# create new list of list of ints \n",
    "new = [[int(float(j)) for j in i] for i in new]"
   ]
  },
  {
   "cell_type": "code",
   "execution_count": 212,
   "metadata": {},
   "outputs": [],
   "source": [
    "# sum up lists of lists\n",
    "sums = []\n",
    "for lst in new:\n",
    "    sums.append(sum(lst))\n",
    "\n",
    "# get max value of summed lists\n",
    "print(max(sums))"
   ]
  },
  {
   "cell_type": "code",
   "execution_count": null,
   "metadata": {},
   "outputs": [],
   "source": []
  }
 ],
 "metadata": {
  "kernelspec": {
   "display_name": "Python 3.10.8 ('advent_of_code')",
   "language": "python",
   "name": "python3"
  },
  "language_info": {
   "codemirror_mode": {
    "name": "ipython",
    "version": 3
   },
   "file_extension": ".py",
   "mimetype": "text/x-python",
   "name": "python",
   "nbconvert_exporter": "python",
   "pygments_lexer": "ipython3",
   "version": "3.10.8"
  },
  "orig_nbformat": 4,
  "vscode": {
   "interpreter": {
    "hash": "37e1299f106e6ad6794fef019231ade3462540ea0684155dba7562f40a6349f0"
   }
  }
 },
 "nbformat": 4,
 "nbformat_minor": 2
}
