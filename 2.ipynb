{
 "cells": [
  {
   "cell_type": "code",
   "execution_count": null,
   "metadata": {},
   "outputs": [],
   "source": [
    "# # Advent of Code 2022, Day 2"
   ]
  },
  {
   "cell_type": "code",
   "execution_count": 3,
   "metadata": {},
   "outputs": [],
   "source": [
    "import pandas as pd\n",
    "import seaborn as sns"
   ]
  },
  {
   "cell_type": "code",
   "execution_count": 17,
   "metadata": {},
   "outputs": [],
   "source": [
    "# import file, convert to list\n",
    "df = pd.read_csv('data/2.csv', header=None)\n",
    "strategy = df.values.tolist()"
   ]
  },
  {
   "cell_type": "code",
   "execution_count": null,
   "metadata": {},
   "outputs": [],
   "source": [
    "# replace X(A) rock, Y(B) paper, Z(C) scissors\n",
    "\n",
    "'''\n",
    "AX -> AA\n",
    "AY -> AB\n",
    "AZ -> AC\n",
    "BX -> BA\n",
    "BY -> BB\n",
    "BZ -> BC\n",
    "CX -> CA\n",
    "CY -> CB\n",
    "CZ -> CC\n",
    "''' "
   ]
  },
  {
   "cell_type": "code",
   "execution_count": 77,
   "metadata": {},
   "outputs": [],
   "source": [
    "# translate letters\n",
    "accum = []\n",
    "for idx, i in enumerate(strategy):\n",
    "    for lst in i:\n",
    "        if lst == 'A X':\n",
    "            accum.append(['A A'])\n",
    "        elif lst == 'A Y':\n",
    "            accum.append(['A B'])\n",
    "        elif lst == 'A Z':\n",
    "            accum.append(['A C'])\n",
    "        elif lst == 'B X':\n",
    "            accum.append(['B A'])\n",
    "        elif lst == 'B Y':\n",
    "            accum.append(['B B'])\n",
    "        elif lst == 'B Z':\n",
    "            accum.append(['B C'])\n",
    "        elif lst == 'C X':\n",
    "            accum.append(['C A'])\n",
    "        elif lst == 'C Y':\n",
    "            accum.append(['C B'])\n",
    "        elif lst == 'C Z':\n",
    "            accum.append(['C C'])"
   ]
  },
  {
   "cell_type": "code",
   "execution_count": 83,
   "metadata": {},
   "outputs": [],
   "source": [
    "score = 0\n",
    "\n",
    "for idx, i in enumerate(accum):\n",
    "    for lst in i:\n",
    "        if lst == 'A A':\n",
    "            score += (1 + 3)\n",
    "        elif lst == 'A B':\n",
    "            score += (2 + 6)\n",
    "        elif lst == 'A C':\n",
    "            score += (3 + 0)\n",
    "        elif lst == 'B A':\n",
    "            score += (1 + 0)\n",
    "        elif lst == 'B B':\n",
    "            score += (2 + 3)\n",
    "        elif lst == 'B C':\n",
    "            score += (3 + 6)\n",
    "        elif lst == 'C A':\n",
    "            score += (1 + 6)\n",
    "        elif lst == 'C B':\n",
    "            score += (2 + 0)\n",
    "        elif lst == 'C C':\n",
    "            score += (3 + 3)"
   ]
  },
  {
   "cell_type": "code",
   "execution_count": null,
   "metadata": {},
   "outputs": [],
   "source": [
    "# Rules\n",
    "# if list has Y: 2 points\n",
    "# if list has X: 1 point\n",
    "# if list has Z: 3 points\n",
    "\n",
    "# if list has '\n",
    "\n",
    "win - 6\n",
    "tie - 3\n",
    "loss - 0\n",
    "\n",
    "A = rock - 1 \n",
    "B = paper - 2\n",
    "C = scissors - 3\n",
    "\n",
    "X - lose - 0\n",
    "Y - draw - 3\n",
    "Z - win = 6\n",
    "\n",
    "points_choice | points_result \n"
   ]
  },
  {
   "cell_type": "code",
   "execution_count": 95,
   "metadata": {},
   "outputs": [],
   "source": [
    "# part 2\n",
    "df = pd.read_csv('data/2.csv', header=None)\n",
    "strategy = df.values.tolist()\n",
    "score = 0"
   ]
  },
  {
   "cell_type": "code",
   "execution_count": 96,
   "metadata": {},
   "outputs": [],
   "source": [
    "\n",
    "# rules for second part\n",
    "for idx, i in enumerate(strategy):\n",
    "    for lst in i:\n",
    "        if lst == 'A X':\n",
    "            score += (3 + 0)\n",
    "        elif lst == 'A Y':\n",
    "            score += (1 + 3)\n",
    "        elif lst == 'A Z':\n",
    "            score += (2 + 6)\n",
    "        elif lst == 'B X':\n",
    "            score += (1 + 0)\n",
    "        elif lst == 'B Y':\n",
    "            score += (2 + 3)\n",
    "        elif lst == 'B Z':\n",
    "            score += (3 + 6)\n",
    "        elif lst == 'C X':\n",
    "            score += (2 + 0)\n",
    "        elif lst == 'C Y':\n",
    "            score += (3 + 3)\n",
    "        elif lst == 'C Z':\n",
    "            score += (1 + 6)"
   ]
  },
  {
   "cell_type": "code",
   "execution_count": 97,
   "metadata": {},
   "outputs": [
    {
     "data": {
      "text/plain": [
       "13187"
      ]
     },
     "execution_count": 97,
     "metadata": {},
     "output_type": "execute_result"
    }
   ],
   "source": [
    "score"
   ]
  },
  {
   "cell_type": "code",
   "execution_count": null,
   "metadata": {},
   "outputs": [],
   "source": []
  }
 ],
 "metadata": {
  "kernelspec": {
   "display_name": "Python 3.10.8 ('advent_of_code')",
   "language": "python",
   "name": "python3"
  },
  "language_info": {
   "codemirror_mode": {
    "name": "ipython",
    "version": 3
   },
   "file_extension": ".py",
   "mimetype": "text/x-python",
   "name": "python",
   "nbconvert_exporter": "python",
   "pygments_lexer": "ipython3",
   "version": "3.10.8"
  },
  "orig_nbformat": 4,
  "vscode": {
   "interpreter": {
    "hash": "37e1299f106e6ad6794fef019231ade3462540ea0684155dba7562f40a6349f0"
   }
  }
 },
 "nbformat": 4,
 "nbformat_minor": 2
}
