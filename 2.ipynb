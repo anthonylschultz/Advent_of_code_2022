{
 "cells": [
  {
   "cell_type": "code",
   "execution_count": null,
   "metadata": {},
   "outputs": [],
   "source": [
    "# # Advent of Code 2022, Day 2"
   ]
  },
  {
   "cell_type": "code",
   "execution_count": 3,
   "metadata": {},
   "outputs": [],
   "source": [
    "import pandas as pd\n",
    "import seaborn as sns"
   ]
  },
  {
   "cell_type": "code",
   "execution_count": 17,
   "metadata": {},
   "outputs": [],
   "source": [
    "# import file, convert to list\n",
    "df = pd.read_csv('data/2.csv', header=None)\n",
    "strategy = df.values.tolist()"
   ]
  },
  {
   "cell_type": "code",
   "execution_count": null,
   "metadata": {},
   "outputs": [],
   "source": [
    "# replace X(A) rock, Y(B) paper, Z(C) scissors\n",
    "\n",
    "'''\n",
    "AX -> AA\n",
    "AY -> AB\n",
    "AZ -> AC\n",
    "BX -> BA\n",
    "BY -> BB\n",
    "BZ -> BC\n",
    "CX -> CA\n",
    "CY -> CB\n",
    "CZ -> CC\n",
    "''' "
   ]
  },
  {
   "cell_type": "code",
   "execution_count": 77,
   "metadata": {},
   "outputs": [],
   "source": [
    "# translate letters\n",
    "accum = []\n",
    "for idx, i in enumerate(strategy):\n",
    "    for lst in i:\n",
    "        if lst == 'A X':\n",
    "            accum.append(['A A'])\n",
    "        elif lst == 'A Y':\n",
    "            accum.append(['A B'])\n",
    "        elif lst == 'A Z':\n",
    "            accum.append(['A C'])\n",
    "        elif lst == 'B X':\n",
    "            accum.append(['B A'])\n",
    "        elif lst == 'B Y':\n",
    "            accum.append(['B B'])\n",
    "        elif lst == 'B Z':\n",
    "            accum.append(['B C'])\n",
    "        elif lst == 'C X':\n",
    "            accum.append(['C A'])\n",
    "        elif lst == 'C Y':\n",
    "            accum.append(['C B'])\n",
    "        elif lst == 'C Z':\n",
    "            accum.append(['C C'])"
   ]
  },
  {
   "cell_type": "code",
   "execution_count": null,
   "metadata": {},
   "outputs": [],
   "source": [
    "# Rules\n",
    "# if list has Y: 2 points\n",
    "# if list has X: 1 point\n",
    "# if list has Z: 3 points\n",
    "\n",
    "# if list has '\n",
    "\n",
    "\n",
    "y = paper\n",
    "x = rock\n",
    "z = scissors"
   ]
  }
 ],
 "metadata": {
  "kernelspec": {
   "display_name": "Python 3.10.8 ('advent_of_code')",
   "language": "python",
   "name": "python3"
  },
  "language_info": {
   "codemirror_mode": {
    "name": "ipython",
    "version": 3
   },
   "file_extension": ".py",
   "mimetype": "text/x-python",
   "name": "python",
   "nbconvert_exporter": "python",
   "pygments_lexer": "ipython3",
   "version": "3.10.8"
  },
  "orig_nbformat": 4,
  "vscode": {
   "interpreter": {
    "hash": "37e1299f106e6ad6794fef019231ade3462540ea0684155dba7562f40a6349f0"
   }
  }
 },
 "nbformat": 4,
 "nbformat_minor": 2
}
