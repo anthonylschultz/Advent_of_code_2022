{
 "cells": [
  {
   "cell_type": "code",
   "execution_count": 2,
   "metadata": {},
   "outputs": [],
   "source": [
    "import pandas as pd"
   ]
  },
  {
   "cell_type": "code",
   "execution_count": 32,
   "metadata": {},
   "outputs": [],
   "source": [
    "# read in data file\n",
    "input = pd.read_csv('data/4.csv', header=None)"
   ]
  },
  {
   "cell_type": "code",
   "execution_count": 33,
   "metadata": {},
   "outputs": [],
   "source": [
    "# split existing columns by '-' character\n",
    "input[2] = input[0].str.split(pat='-')\n",
    "input[3] = input[1].str.split(pat='-')\n",
    "\n",
    "input_ref = input[[2, 3]].copy()"
   ]
  },
  {
   "cell_type": "code",
   "execution_count": 34,
   "metadata": {},
   "outputs": [],
   "source": [
    "# convert ranges to single ints\n",
    "low1 = []\n",
    "for i in input_ref[2]:\n",
    "    low1.append(int(i[0]))\n",
    "\n",
    "high1 = []\n",
    "for i in input_ref[2]:\n",
    "    high1.append(int(i[1]))\n",
    "\n",
    "low2 = []\n",
    "for i in input_ref[3]:\n",
    "    low2.append(int(i[0]))\n",
    "\n",
    "high2 = []\n",
    "for i in input_ref[3]:\n",
    "    high2.append(int(i[1]))\n",
    "\n",
    "# convert single ints back to a dataframe\n",
    "df_ref = pd.DataFrame({\n",
    "    'low1':low1,\n",
    "    'high1':high1,\n",
    "    'low2':low2,\n",
    "    'high2':high2\n",
    "})"
   ]
  },
  {
   "cell_type": "code",
   "execution_count": 35,
   "metadata": {},
   "outputs": [
    {
     "data": {
      "text/html": [
       "<div>\n",
       "<style scoped>\n",
       "    .dataframe tbody tr th:only-of-type {\n",
       "        vertical-align: middle;\n",
       "    }\n",
       "\n",
       "    .dataframe tbody tr th {\n",
       "        vertical-align: top;\n",
       "    }\n",
       "\n",
       "    .dataframe thead th {\n",
       "        text-align: right;\n",
       "    }\n",
       "</style>\n",
       "<table border=\"1\" class=\"dataframe\">\n",
       "  <thead>\n",
       "    <tr style=\"text-align: right;\">\n",
       "      <th></th>\n",
       "      <th>low1</th>\n",
       "      <th>high1</th>\n",
       "      <th>low2</th>\n",
       "      <th>high2</th>\n",
       "    </tr>\n",
       "  </thead>\n",
       "  <tbody>\n",
       "    <tr>\n",
       "      <th>0</th>\n",
       "      <td>20</td>\n",
       "      <td>45</td>\n",
       "      <td>13</td>\n",
       "      <td>44</td>\n",
       "    </tr>\n",
       "    <tr>\n",
       "      <th>1</th>\n",
       "      <td>7</td>\n",
       "      <td>8</td>\n",
       "      <td>8</td>\n",
       "      <td>28</td>\n",
       "    </tr>\n",
       "    <tr>\n",
       "      <th>2</th>\n",
       "      <td>3</td>\n",
       "      <td>39</td>\n",
       "      <td>14</td>\n",
       "      <td>97</td>\n",
       "    </tr>\n",
       "    <tr>\n",
       "      <th>3</th>\n",
       "      <td>35</td>\n",
       "      <td>99</td>\n",
       "      <td>35</td>\n",
       "      <td>98</td>\n",
       "    </tr>\n",
       "    <tr>\n",
       "      <th>4</th>\n",
       "      <td>18</td>\n",
       "      <td>49</td>\n",
       "      <td>17</td>\n",
       "      <td>19</td>\n",
       "    </tr>\n",
       "    <tr>\n",
       "      <th>...</th>\n",
       "      <td>...</td>\n",
       "      <td>...</td>\n",
       "      <td>...</td>\n",
       "      <td>...</td>\n",
       "    </tr>\n",
       "    <tr>\n",
       "      <th>995</th>\n",
       "      <td>88</td>\n",
       "      <td>94</td>\n",
       "      <td>89</td>\n",
       "      <td>94</td>\n",
       "    </tr>\n",
       "    <tr>\n",
       "      <th>996</th>\n",
       "      <td>23</td>\n",
       "      <td>23</td>\n",
       "      <td>24</td>\n",
       "      <td>87</td>\n",
       "    </tr>\n",
       "    <tr>\n",
       "      <th>997</th>\n",
       "      <td>13</td>\n",
       "      <td>31</td>\n",
       "      <td>31</td>\n",
       "      <td>84</td>\n",
       "    </tr>\n",
       "    <tr>\n",
       "      <th>998</th>\n",
       "      <td>63</td>\n",
       "      <td>65</td>\n",
       "      <td>2</td>\n",
       "      <td>64</td>\n",
       "    </tr>\n",
       "    <tr>\n",
       "      <th>999</th>\n",
       "      <td>42</td>\n",
       "      <td>91</td>\n",
       "      <td>42</td>\n",
       "      <td>73</td>\n",
       "    </tr>\n",
       "  </tbody>\n",
       "</table>\n",
       "<p>1000 rows × 4 columns</p>\n",
       "</div>"
      ],
      "text/plain": [
       "     low1  high1  low2  high2\n",
       "0      20     45    13     44\n",
       "1       7      8     8     28\n",
       "2       3     39    14     97\n",
       "3      35     99    35     98\n",
       "4      18     49    17     19\n",
       "..    ...    ...   ...    ...\n",
       "995    88     94    89     94\n",
       "996    23     23    24     87\n",
       "997    13     31    31     84\n",
       "998    63     65     2     64\n",
       "999    42     91    42     73\n",
       "\n",
       "[1000 rows x 4 columns]"
      ]
     },
     "execution_count": 35,
     "metadata": {},
     "output_type": "execute_result"
    }
   ],
   "source": [
    "df_ref"
   ]
  },
  {
   "cell_type": "code",
   "execution_count": 37,
   "metadata": {},
   "outputs": [],
   "source": [
    "import numpy as np\n",
    "df_ref['new1'] = np.where((df_ref['low1'] <= df_ref['low2']) & (\n",
    "    df_ref['high1'] >= df_ref['high2']), 1, np.nan)"
   ]
  },
  {
   "cell_type": "code",
   "execution_count": 38,
   "metadata": {},
   "outputs": [],
   "source": [
    "df_ref['new2'] = np.where((df_ref['low1'] >= df_ref['low2']) & (\n",
    "    df_ref['high1'] <= df_ref['high2']), 1, np.nan)"
   ]
  },
  {
   "cell_type": "code",
   "execution_count": 43,
   "metadata": {},
   "outputs": [
    {
     "data": {
      "text/plain": [
       "low1     31180.0\n",
       "high1    67711.0\n",
       "low2     29550.0\n",
       "high2    67486.0\n",
       "new1       216.0\n",
       "new2       243.0\n",
       "dtype: float64"
      ]
     },
     "execution_count": 43,
     "metadata": {},
     "output_type": "execute_result"
    }
   ],
   "source": [
    "df_ref.sum()"
   ]
  },
  {
   "cell_type": "code",
   "execution_count": 44,
   "metadata": {},
   "outputs": [],
   "source": [
    "df_ref[df_ref['new1'] == df_ref['new2']].count()"
   ]
  },
  {
   "cell_type": "code",
   "execution_count": null,
   "metadata": {},
   "outputs": [],
   "source": []
  }
 ],
 "metadata": {
  "kernelspec": {
   "display_name": "Python 3.10.8 ('advent_of_code')",
   "language": "python",
   "name": "python3"
  },
  "language_info": {
   "codemirror_mode": {
    "name": "ipython",
    "version": 3
   },
   "file_extension": ".py",
   "mimetype": "text/x-python",
   "name": "python",
   "nbconvert_exporter": "python",
   "pygments_lexer": "ipython3",
   "version": "3.10.8"
  },
  "orig_nbformat": 4,
  "vscode": {
   "interpreter": {
    "hash": "37e1299f106e6ad6794fef019231ade3462540ea0684155dba7562f40a6349f0"
   }
  }
 },
 "nbformat": 4,
 "nbformat_minor": 2
}
